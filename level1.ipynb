{
  "nbformat": 4,
  "nbformat_minor": 0,
  "metadata": {
    "colab": {
      "name": "Untitled17.ipynb",
      "provenance": [],
      "authorship_tag": "ABX9TyPxnUbe6QkKEIReRFJlwYPA",
      "include_colab_link": true
    },
    "kernelspec": {
      "name": "python3",
      "display_name": "Python 3"
    }
  },
  "cells": [
    {
      "cell_type": "markdown",
      "metadata": {
        "id": "view-in-github",
        "colab_type": "text"
      },
      "source": [
        "<a href=\"https://colab.research.google.com/github/Mshivam2409/CS641/blob/master/level1.ipynb\" target=\"_parent\"><img src=\"https://colab.research.google.com/assets/colab-badge.svg\" alt=\"Open In Colab\"/></a>"
      ]
    },
    {
      "cell_type": "code",
      "metadata": {
        "id": "kBSYovorOpX3"
      },
      "source": [
        "msg = \"\"\"\r\n",
        "TR XYCB MH AFC MUVY EOHPTCS, AFCSS TE QCSI NTYIMS TNA AFCSC.\r\n",
        "        EMRBH XAA VAFR MIUCQPUH \"LMRL_CCETOT\" FN HM AKUXAHK. OTA WANA\r\n",
        "        OTXT FFU EISCWNAF HME BFU MCVA UGTOTRE. BM HYLF IFU UVTY ANE\r\n",
        "        HBSEI QYOQM OUVSF AM EAFTE PYHYS XNSKE IFUSC.\r\n",
        "\"\"\""
      ],
      "execution_count": 13,
      "outputs": []
    },
    {
      "cell_type": "code",
      "metadata": {
        "id": "eyYLSQpvPwXY"
      },
      "source": [
        " msg=msg.replace(\" \", \"\").replace(\".\",\"\").replace(\"_\",\"\").replace('\"','').replace(\"\\n\",\"\").replace(\",\",\"\")"
      ],
      "execution_count": 22,
      "outputs": []
    },
    {
      "cell_type": "code",
      "metadata": {
        "colab": {
          "base_uri": "https://localhost:8080/",
          "height": 52
        },
        "id": "a8I9O-1uQsN8",
        "outputId": "c4c8f6df-7df7-4bcc-ba12-5e7677b9908c"
      },
      "source": [
        "msg"
      ],
      "execution_count": 23,
      "outputs": [
        {
          "output_type": "execute_result",
          "data": {
            "application/vnd.google.colaboratory.intrinsic+json": {
              "type": "string"
            },
            "text/plain": [
              "'TRXYCBMHAFCMUVYEOHPTCSAFCSSTEQCSINTYIMSTNAAFCSCEMRBHXAAVAFRMIUCQPUHLMRLCCETOTFNHMAKUXAHKOTAWANAOTXTFFUEISCWNAFHMEBFUMCVAUGTOTREBMHYLFIFUUVTYANEHBSEIQYOQMOUVSFAMEAFTEPYHYSXNSKEIFUSC'"
            ]
          },
          "metadata": {
            "tags": []
          },
          "execution_count": 23
        }
      ]
    },
    {
      "cell_type": "code",
      "metadata": {
        "id": "rEiG4iiLOaZS"
      },
      "source": [
        "key=\"SECURITY\"\r\n",
        "def matrix(x,y,initial):\r\n",
        "    return [[initial for i in range(x)] for j in range(y)]"
      ],
      "execution_count": 1,
      "outputs": []
    },
    {
      "cell_type": "code",
      "metadata": {
        "id": "wBLKOQ8IOevm"
      },
      "source": [
        "\r\n",
        "result=list()\r\n",
        "for c in key: #storing key\r\n",
        "    if c not in result:\r\n",
        "        if c=='J':\r\n",
        "            result.append('I')\r\n",
        "        else:\r\n",
        "            result.append(c)\r\n",
        "flag=0\r\n",
        "for i in range(65,91): #storing other character\r\n",
        "    if chr(i) not in result:\r\n",
        "        if i==73 and chr(74) not in result:\r\n",
        "            result.append(\"I\")\r\n",
        "            flag=1\r\n",
        "        elif flag==0 and i==73 or i==74:\r\n",
        "            pass    \r\n",
        "        else:\r\n",
        "            result.append(chr(i))\r\n",
        "k=0\r\n",
        "my_matrix=matrix(5,5,0) #initialize matrix\r\n",
        "for i in range(0,5): #making matrix\r\n",
        "    for j in range(0,5):\r\n",
        "        my_matrix[i][j]=result[k]\r\n",
        "        k+=1\r\n",
        "\r\n",
        "def locindex(c): #get location of each character\r\n",
        "    loc=list()\r\n",
        "    if c=='J':\r\n",
        "        c='I'\r\n",
        "    for i ,j in enumerate(my_matrix):\r\n",
        "        for k,l in enumerate(j):\r\n",
        "            if c==l:\r\n",
        "                loc.append(i)\r\n",
        "                loc.append(k)\r\n",
        "                return loc"
      ],
      "execution_count": 2,
      "outputs": []
    },
    {
      "cell_type": "code",
      "metadata": {
        "id": "0iqdm73oOjSh"
      },
      "source": [
        "def decrypt(msg):  #decryption\r\n",
        "    i=0\r\n",
        "    while i<len(msg):\r\n",
        "        loc=list()\r\n",
        "        loc=locindex(msg[i])\r\n",
        "        loc1=list()\r\n",
        "        loc1=locindex(msg[i+1])\r\n",
        "        try:\r\n",
        "          if loc[1]==loc1[1]:\r\n",
        "              print(\"{}{}\".format(my_matrix[(loc[0]-1)%5][loc[1]],my_matrix[(loc1[0]-1)%5][loc1[1]]),end=' ')\r\n",
        "          elif loc[0]==loc1[0]:\r\n",
        "              print(\"{}{}\".format(my_matrix[loc[0]][(loc[1]-1)%5],my_matrix[loc1[0]][(loc1[1]-1)%5]),end=' ')  \r\n",
        "          else:\r\n",
        "              print(\"{}{}\".format(my_matrix[loc[0]][loc1[1]],my_matrix[loc1[0]][loc[1]]),end=' ')\r\n",
        "        except: \r\n",
        "          pass   \r\n",
        "        i=i+2\r\n",
        "      \r\n",
        "\r\n"
      ],
      "execution_count": 21,
      "outputs": []
    },
    {
      "cell_type": "code",
      "metadata": {
        "colab": {
          "base_uri": "https://localhost:8080/"
        },
        "id": "Mspj9lp5OnA7",
        "outputId": "6e543e6c-eb31-40c3-c9e7-1100e1cd61d3"
      },
      "source": [
        "decrypt(msg)"
      ],
      "execution_count": 24,
      "outputs": [
        {
          "output_type": "stream",
          "text": [
            "BE WA RY OF TH EN EX TC HA MB ER TH ER EI SV ER YL IT TL EI OY TH ER ES PE AK OU TX TH EP AS SW OR DO PE NS ES AM ET OG OT HR OU GH MA YX YO UH AV ET HE ST RE NG TH FO RT HE NE XT CH AM BE RT OF IN DT HE EX IT YO UF IR ST WI LX LN EX ED TO UT TE RM AG IC WO RD ST HE RE "
          ],
          "name": "stdout"
        }
      ]
    }
  ]
}